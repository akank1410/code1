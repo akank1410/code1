{
  "nbformat": 4,
  "nbformat_minor": 0,
  "metadata": {
    "colab": {
      "name": "lab1_m/c learning.ipynb",
      "provenance": [],
      "authorship_tag": "ABX9TyMsO+jeFQTFLrgp/R8ELXDQ",
      "include_colab_link": true
    },
    "kernelspec": {
      "name": "python3",
      "display_name": "Python 3"
    },
    "language_info": {
      "name": "python"
    }
  },
  "cells": [
    {
      "cell_type": "markdown",
      "metadata": {
        "id": "view-in-github",
        "colab_type": "text"
      },
      "source": [
        "<a href=\"https://colab.research.google.com/github/akank1410/code1/blob/master/lab1_m_c_learning.ipynb\" target=\"_parent\"><img src=\"https://colab.research.google.com/assets/colab-badge.svg\" alt=\"Open In Colab\"/></a>"
      ]
    },
    {
      "cell_type": "markdown",
      "metadata": {
        "id": "EAkQyQo-YgSj"
      },
      "source": [
        "###Checking the Python Version"
      ]
    },
    {
      "cell_type": "code",
      "metadata": {
        "colab": {
          "base_uri": "https://localhost:8080/"
        },
        "id": "8Q7iHhpmYlHi",
        "outputId": "cb5e7dd3-c960-4171-9c10-f73417b18754"
      },
      "source": [
        "!python --version"
      ],
      "execution_count": 1,
      "outputs": [
        {
          "output_type": "stream",
          "text": [
            "Python 3.7.11\n"
          ],
          "name": "stdout"
        }
      ]
    },
    {
      "cell_type": "code",
      "metadata": {
        "colab": {
          "base_uri": "https://localhost:8080/"
        },
        "id": "EgOu8nzWZGmO",
        "outputId": "1c0258a1-17ae-45dc-a9bc-3a7c89850bec"
      },
      "source": [
        "!pip install numpy"
      ],
      "execution_count": 3,
      "outputs": [
        {
          "output_type": "stream",
          "text": [
            "Requirement already satisfied: numpy in /usr/local/lib/python3.7/dist-packages (1.19.5)\n"
          ],
          "name": "stdout"
        }
      ]
    },
    {
      "cell_type": "markdown",
      "metadata": {
        "id": "mb9rK3MBZ6JZ"
      },
      "source": [
        "##Printing to Hello World eqivalent"
      ]
    },
    {
      "cell_type": "code",
      "metadata": {
        "colab": {
          "base_uri": "https://localhost:8080/"
        },
        "id": "PM1abSdOZUfu",
        "outputId": "2bfb8653-b7f9-4e6c-c636-e2feb7ccb00f"
      },
      "source": [
        "print(\"I love python\")"
      ],
      "execution_count": 5,
      "outputs": [
        {
          "output_type": "stream",
          "text": [
            "I love python\n"
          ],
          "name": "stdout"
        }
      ]
    },
    {
      "cell_type": "code",
      "metadata": {
        "colab": {
          "base_uri": "https://localhost:8080/",
          "height": 35
        },
        "id": "fjGRmI7uaYbu",
        "outputId": "b6d46cdd-bc4d-4790-fed0-c736fe9ddecb"
      },
      "source": [
        "\"I love python\""
      ],
      "execution_count": 6,
      "outputs": [
        {
          "output_type": "execute_result",
          "data": {
            "application/vnd.google.colaboratory.intrinsic+json": {
              "type": "string"
            },
            "text/plain": [
              "'I love python'"
            ]
          },
          "metadata": {
            "tags": []
          },
          "execution_count": 6
        }
      ]
    },
    {
      "cell_type": "markdown",
      "metadata": {
        "id": "7GabGxlraH9G"
      },
      "source": [
        "##Playing with numbers"
      ]
    },
    {
      "cell_type": "code",
      "metadata": {
        "colab": {
          "base_uri": "https://localhost:8080/"
        },
        "id": "kUrE6oL6aFUp",
        "outputId": "23a8ad9e-07b8-43b8-a7b4-ed5f36bc4627"
      },
      "source": [
        "x=1\n",
        "print(x)"
      ],
      "execution_count": 7,
      "outputs": [
        {
          "output_type": "stream",
          "text": [
            "1\n"
          ],
          "name": "stdout"
        }
      ]
    },
    {
      "cell_type": "code",
      "metadata": {
        "colab": {
          "base_uri": "https://localhost:8080/"
        },
        "id": "x2Tt62Q7ae3w",
        "outputId": "f646bd65-161e-488d-fac0-3ca51dfa1300"
      },
      "source": [
        "x = x+1\n",
        "x"
      ],
      "execution_count": 8,
      "outputs": [
        {
          "output_type": "execute_result",
          "data": {
            "text/plain": [
              "2"
            ]
          },
          "metadata": {
            "tags": []
          },
          "execution_count": 8
        }
      ]
    },
    {
      "cell_type": "markdown",
      "metadata": {
        "id": "nTL8iUv8aqT_"
      },
      "source": [
        "Difference between .py and .ipynb\n",
        "\n",
        "."
      ]
    },
    {
      "cell_type": "code",
      "metadata": {
        "id": "dRv6IppAaiFk"
      },
      "source": [
        "x= 5\n",
        "while x>1:\n",
        "  "
      ],
      "execution_count": null,
      "outputs": []
    }
  ]
}